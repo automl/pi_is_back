{
 "cells": [
  {
   "cell_type": "markdown",
   "metadata": {
    "pycharm": {
     "name": "#%% md\n"
    }
   },
   "source": [
    "# Evaluate BBOB\n",
    "## Helper Functions"
   ]
  },
  {
   "cell_type": "code",
   "execution_count": 20,
   "metadata": {
    "pycharm": {
     "name": "#%%\n"
    }
   },
   "outputs": [],
   "source": [
    "from download_data import *\n",
    "import plot_utils\n",
    "from plot_utils import *\n",
    "import importlib\n",
    "importlib.reload(plot_utils)\n",
    "from plot_utils import *"
   ]
  },
  {
   "cell_type": "markdown",
   "metadata": {
    "pycharm": {
     "name": "#%% md\n"
    }
   },
   "source": [
    "## Download Data from WandB"
   ]
  },
  {
   "cell_type": "code",
   "execution_count": null,
   "metadata": {
    "pycharm": {
     "name": "#%%\n"
    }
   },
   "outputs": [],
   "source": [
    "runs_df = download(group=\"paris2\")"
   ]
  },
  {
   "cell_type": "markdown",
   "metadata": {
    "pycharm": {
     "name": "#%% md\n"
    }
   },
   "source": [
    "## Convert into Plot Data"
   ]
  },
  {
   "cell_type": "code",
   "execution_count": 2,
   "metadata": {
    "pycharm": {
     "name": "#%%\n"
    }
   },
   "outputs": [
    {
     "name": "stdout",
     "output_type": "stream",
     "text": [
      "Load tmp/rollout_bbob.csv\n"
     ]
    }
   ],
   "source": [
    "import pandas as pd\n",
    "import ioh\n",
    "from tqdm import tqdm\n",
    "\n",
    "runs_fn = \"/home/benjamin/Dokumente/code/tmp/DAC-BO/tmp/wandb_runs.pickle\"\n",
    "runs_df = pd.read_pickle(runs_fn)\n",
    "\n",
    "reload = False\n",
    "if reload:  # or not Path(\"../\" + fn_rollout_data).is_file():\n",
    "    data_list = []\n",
    "    for index, run in tqdm(runs_df.iterrows(), total=len(runs_df)):\n",
    "        if run[\"outdir\"] is None:\n",
    "            continue\n",
    "        p = Path(\"..\") / Path(run[\"outdir\"])\n",
    "        fn_cfg = p / fn_config\n",
    "        fn_wbsum = p / fn_wbsummary\n",
    "        fn_wbcfg = p / fn_wbconfig\n",
    "\n",
    "        if fn_cfg.is_file():\n",
    "            cfg = OmegaConf.load(fn_cfg)\n",
    "            traincfg = recover_traincfg_from_wandb(fn_wbcfg)\n",
    "            summary = lazy_json_load(fn_wbsum)\n",
    "\n",
    "            path_to_table = fn_wbsum.parent / summary[\"rollout_data\"][\"path\"]\n",
    "            rollout_data = load_wandb_table(path_to_table)\n",
    "            bbob_function_id = cfg[\"coco_instance\"][\"function\"]\n",
    "            bbob_dim = cfg[\"coco_instance\"][\"dimension\"]\n",
    "            bbob_instance = cfg[\"coco_instance\"][\"instance\"]\n",
    "            rollout_data[\"bbob_function\"] = bbob_function_id\n",
    "            rollout_data[\"bbob_dimension\"] = bbob_dim\n",
    "            rollout_data[\"bbob_instance\"] = bbob_instance\n",
    "            problem = ioh.get_problem(\n",
    "                fid=bbob_function_id,\n",
    "                instance=bbob_instance,\n",
    "                dimension=bbob_dim,\n",
    "                problem_type=\"BBOB\",\n",
    "            )\n",
    "            optimum = problem.objective.y\n",
    "            rollout_data[\"regret\"] = rollout_data[\"reward\"] - optimum\n",
    "\n",
    "            data_list.append(rollout_data)\n",
    "\n",
    "    df = pd.concat(data_list)\n",
    "    df.reset_index(drop=True, inplace=True)\n",
    "    df.to_csv(fn_rollout_data, index=False)\n",
    "else:\n",
    "    print(f\"Load {fn_rollout_data}\")\n",
    "    df = pd.read_csv(fn_rollout_data)\n",
    "\n",
    "# Scale regret\n",
    "groups = df.groupby(by=[\"bbob_function\", \"bbob_dimension\"])\n",
    "new_df = []\n",
    "for group_id, group_df in groups:\n",
    "    group_df = scale(group_df)\n",
    "    new_df.append(group_df)\n",
    "df = pd.concat(new_df)"
   ]
  },
  {
   "cell_type": "code",
   "execution_count": null,
   "metadata": {
    "pycharm": {
     "name": "#%%\n"
    }
   },
   "outputs": [],
   "source": [
    "import matplotlib.pyplot as plt\n",
    "import seaborn as sns\n",
    "\n",
    "data = df[df[\"bbob_dimension\"] == 5]\n",
    "groups = data.groupby(by=[\"bbob_function\", \"policy_name\"])\n",
    "for group_id, group_df in groups:\n",
    "    # group_df = scale(group_df)\n",
    "    ax = sns.histplot(data=group_df, x=\"regret_log_scaled\")\n",
    "    ax.set_title(group_id)\n",
    "    plt.show()"
   ]
  },
  {
   "cell_type": "markdown",
   "metadata": {
    "pycharm": {
     "name": "#%% md\n"
    }
   },
   "source": [
    "## Export Final Regret Table"
   ]
  },
  {
   "cell_type": "code",
   "execution_count": 22,
   "metadata": {
    "pycharm": {
     "name": "#%%\n"
    }
   },
   "outputs": [
    {
     "name": "stdout",
     "output_type": "stream",
     "text": [
      "Index(['step', 'state', 'action', 'reward', 'instance', 'cost',\n",
      "       'configuration', 'initial_design', 'episode', 'policy_name', 'policy',\n",
      "       'seed', 'bbob_function', 'bbob_dimension', 'bbob_instance', 'regret',\n",
      "       'regret_log_scaled'],\n",
      "      dtype='object')\n",
      "0.0 0.9807196400670181\n",
      "10257\n"
     ]
    }
   ],
   "source": [
    "dimension = 5\n",
    "table_fn = \"tmp/ioh.csv\"\n",
    "translator = {\n",
    "    \"bbob_function\": \"function\",\n",
    "    \"policy_name\": \"schedule\",\n",
    "    \"seed\": \"seed\",\n",
    "    \"regret\": \"final regret\",\n",
    "    \"regret_log_scaled\": \"final scaled log regret\",\n",
    "}\n",
    "data = df[df[\"bbob_dimension\"] == dimension]\n",
    "data = data[data[\"step\"] == data[\"step\"].max()]\n",
    "# data = scale(data)\n",
    "print(data.columns)\n",
    "table = {v: data[k] for k, v in translator.items()}\n",
    "table = pd.DataFrame(table)\n",
    "table.reset_index(drop=True, inplace=True)\n",
    "table.to_csv(table_fn)\n",
    "print(table[\"final scaled log regret\"].min(), table[\"final scaled log regret\"].max())\n",
    "print(len(table))\n",
    "\n",
    "\n",
    "# import matplotlib.pyplot as plt\n",
    "# import seaborn as sns\n",
    "# ax = sns.violinplot(data=table, x=\"schedule\", y=\"final scaled log regret\", cut=0)\n",
    "# ax = sns.stripplot(data=table, x=\"schedule\", y=\"final scaled log regret\", ax=ax, size=1, color=\"black\")\n",
    "# plt.show()"
   ]
  },
  {
   "cell_type": "markdown",
   "metadata": {
    "pycharm": {
     "name": "#%% md\n"
    }
   },
   "source": [
    "## Check for Missing Data"
   ]
  },
  {
   "cell_type": "code",
   "execution_count": null,
   "metadata": {
    "pycharm": {
     "name": "#%%\n"
    }
   },
   "outputs": [],
   "source": [
    "# Check what data is missing\n",
    "n_seeds_t = 60\n",
    "n_fns_t = 24\n",
    "n_sch_t = 7\n",
    "n_dim_t = 2\n",
    "print(df.columns)\n",
    "group_keys = [\"bbob_dimension\", \"bbob_function\"]\n",
    "groups = df.groupby(by=group_keys)\n",
    "for group_id, group_df in groups:\n",
    "    seeds = group_df[\"seed\"].unique()\n",
    "    seeds.sort()\n",
    "    n_seeds = group_df[\"seed\"].nunique()\n",
    "    if n_seeds != n_seeds_t:\n",
    "\n",
    "        print(group_id, n_seeds, seeds)\n",
    "\n",
    "    n_policies = group_df[\"policy_name\"].nunique()\n",
    "    if n_policies != n_sch_t:\n",
    "        policies = group_df[\"policy_name\"].unique()\n",
    "        policies.sort()\n",
    "        print(group_id, n_policies, policies)\n",
    "        # sgroups = group_df.groupby(by=\"policy_name\")\n",
    "        # for sid, sdf in sgroups:\n",
    "        #     seeds = group_df[\"seed\"].unique()\n",
    "        #     seeds.sort()\n",
    "        #     print(sid, seeds)"
   ]
  },
  {
   "cell_type": "markdown",
   "metadata": {
    "pycharm": {
     "name": "#%% md\n"
    }
   },
   "source": [
    "## Plot Regret over Steps"
   ]
  },
  {
   "cell_type": "markdown",
   "metadata": {
    "pycharm": {
     "name": "#%% md\n"
    }
   },
   "source": [
    "### Aggr. BBOB Functions"
   ]
  },
  {
   "cell_type": "code",
   "execution_count": null,
   "metadata": {
    "collapsed": false,
    "pycharm": {
     "name": "#%%\n"
    }
   },
   "outputs": [],
   "source": [
    "sns.set(font_scale=1.25)\n",
    "sns.set_style(\"whitegrid\")\n",
    "print(df.columns)\n",
    "group_keys = [\"bbob_dimension\"]  # , \"bbob_function\"]\n",
    "groups = df.groupby(by=group_keys)\n",
    "for group_id, group_df in groups:\n",
    "    if type(group_id) != list:\n",
    "        group_id = [group_id]\n",
    "    if group_id[0] != 5:\n",
    "        continue\n",
    "    \n",
    "    title = get_group_title(group_keys=group_keys, group_id=group_id)\n",
    "    plot_final_regret(data=group_df, title=title, yname=\"regret_log_scaled\", extension=\".png\")    \n",
    "    # fig = plt.figure(figsize=(6, 4), dpi=300)\n",
    "    # ax = fig.add_subplot(111)\n",
    "    ax = None\n",
    "    ax = plot_regret_over_steps(ax=ax, data=group_df, title=title, yname=\"regret_log_scaled\", errorbar=\"ci\", extension=\".png\")"
   ]
  },
  {
   "cell_type": "markdown",
   "metadata": {
    "collapsed": false,
    "pycharm": {
     "name": "#%% md\n"
    }
   },
   "source": [
    "### Aggr. per Function Family"
   ]
  },
  {
   "cell_type": "code",
   "execution_count": null,
   "metadata": {
    "collapsed": false,
    "pycharm": {
     "name": "#%%\n"
    }
   },
   "outputs": [],
   "source": [
    "dimension = 5\n",
    "families = {\n",
    "    \"separable\": [1, 2, 3, 4, 5],\n",
    "    \"low/moderate conditioning\": [6, 7, 8, 9],\n",
    "    \"high conditioning, unimodel\": [10, 11, 12, 13, 14],\n",
    "    \"multi-modal, global structure\": [15, 16, 17, 18, 19],\n",
    "    \"multi-model, weak global structure\": [20, 21, 22, 23, 24],\n",
    "}\n",
    "data = df[df[\"bbob_dimension\"] == dimension]\n",
    "group_keys = [\"bbob_function\"]\n",
    "groups = df.groupby(by=group_keys)\n",
    "new_dfs = {}\n",
    "for family, members in families.items():\n",
    "    new_group = []\n",
    "    for group_id, group_df in groups:\n",
    "        if group_id in members:\n",
    "            new_group.append(group_df)\n",
    "    new_df = pd.concat(new_group)\n",
    "    new_dfs[family] = new_df\n",
    "for family, group_df in new_dfs.items():\n",
    "    title = f\"{family}: {families[family]}\"\n",
    "    plot_final_regret(data=group_df, title=title, yname=\"regret_log_scaled\")\n",
    "    plot_regret_over_steps(data=group_df, title=title, yname=\"regret_log_scaled\")"
   ]
  },
  {
   "cell_type": "markdown",
   "metadata": {
    "collapsed": false,
    "pycharm": {
     "name": "#%% md\n"
    }
   },
   "source": [
    "### Per BBOB Function\n"
   ]
  },
  {
   "cell_type": "code",
   "execution_count": null,
   "metadata": {
    "collapsed": false,
    "pycharm": {
     "name": "#%%\n"
    }
   },
   "outputs": [],
   "source": [
    "from distutils import extension\n",
    "\n",
    "\n",
    "sns.set_style(\"whitegrid\")\n",
    "sns.set_palette(\"colorblind\")\n",
    "df.columns\n",
    "group_keys = [\"bbob_dimension\", \"bbob_function\"]\n",
    "groups = df.groupby(by=group_keys)\n",
    "for group_id, group_df in groups:\n",
    "    if type(group_id) != tuple:\n",
    "        group_id = [group_id]\n",
    "    if group_id[0] != 5:\n",
    "        continue\n",
    "    title = get_group_title(group_keys=group_keys, group_id=group_id)\n",
    "    print(title)\n",
    "    plot_final_regret(data=group_df, title=title, yname=\"regret_log_scaled\", extension=\".png\")\n",
    "    # fig = plt.figure(figsize=(4, 3), dpi=300)\n",
    "    # ax = fig.add_subplot(111)\n",
    "    ax = None\n",
    "    ax = plot_regret_over_steps(ax=ax, data=group_df, title=title, yname=\"regret_log_scaled\", errorbar=\"ci\", extension=\".png\", remove_legend=False)"
   ]
  },
  {
   "cell_type": "markdown",
   "metadata": {
    "collapsed": false,
    "pycharm": {
     "name": "#%% md\n"
    }
   },
   "source": [
    "## Plot All Samples for Each Schedule"
   ]
  },
  {
   "cell_type": "code",
   "execution_count": null,
   "metadata": {
    "collapsed": false,
    "pycharm": {
     "name": "#%%\n"
    }
   },
   "outputs": [],
   "source": [
    "import seaborn as sns\n",
    "import matplotlib.pyplot as plt\n",
    "\n",
    "sns.set_style(\"whitegrid\")\n",
    "sns.set_palette(\"colorblind\")\n",
    "df.columns\n",
    "data = df[df[\"bbob_dimension\"] == 5]\n",
    "# bbob_function = 19\n",
    "# data = data[data[\"bbob_function\"] == bbob_function]\n",
    "group_keys = [\"bbob_function\"]\n",
    "groups = data.groupby(by=group_keys)\n",
    "for group_id, group_df in groups:\n",
    "    if type(group_id) != tuple:\n",
    "        group_id = [group_id]\n",
    "    title = get_group_title(group_keys=group_keys, group_id=group_id)\n",
    "    print(title)\n",
    "    yname = \"regret_log_scaled\"\n",
    "    errorbar = \"sd\"\n",
    "\n",
    "    group_df = group_df.rename(columns={\"policy_name\": \"schedule\"})\n",
    "    grid = sns.FacetGrid(data=group_df, col=\"schedule\")\n",
    "    grid.map_dataframe(sns.lineplot, x=\"step\", y=\"regret_log_scaled\", hue=\"seed\", errorbar=errorbar)\n",
    "    grid.set_xlabels(\"BO evaluations\")\n",
    "    grid.set_ylabels(\"log regret (scaled)\")\n",
    "    grid.set_titles(template=\"{col_name}\")\n",
    "\n",
    "    # Reference lines for percentages after which to switch\n",
    "    n_steps = data[\"step\"].max()\n",
    "    x = [n_steps * k for k in [0.25, 0.5, 0.75]]\n",
    "    for xi in x:\n",
    "        grid.refline(x=xi, color=\"grey\", alpha=0.25, ls=\"-\")\n",
    "\n",
    "    plt.show()\n",
    "    basename = f\"./tmp/figures/convergence_perschedule/regret_over_steps_hueseed_{title}\"\n",
    "    fig = grid.figure\n",
    "    savefig(fig=fig, basename=basename)\n",
    "\n",
    "    # continue\n",
    "\n",
    "    # fig = plt.figure()\n",
    "    # ax = fig.add_subplot(111)\n",
    "    # n_steps = data[\"step\"].max()\n",
    "    # x = [n_steps * k for k in [0.25, 0.5, 0.75]]\n",
    "\n",
    "    # ax = sns.lineplot(\n",
    "    #     data=data,\n",
    "    #     x=\"step\",\n",
    "    #     y=yname,\n",
    "    #     hue=\"policy_name\",\n",
    "    #     ax=ax,\n",
    "    #     palette=get_color_palette(data),\n",
    "    #     errorbar=errorbar,\n",
    "    # )\n",
    "    # if not \"log\" in yname:\n",
    "    #     ax.set_yscale(\"log\")\n",
    "    # # else:\n",
    "    # #     ax.set_ylim(0, 1)\n",
    "    # ymin, ymax = ax.get_ylim()\n",
    "    # ax.vlines(x=x, ymin=ymin, ymax=ymax, color=\"grey\", alpha=0.5)\n",
    "    # xticks = np.linspace(0, n_steps + 1, 5)\n",
    "    # xticks = [int(x) for x in xticks]\n",
    "    # # ax.set_xticks(xticks)\n",
    "    # title = title.replace(\"bbob_\", \"\")\n",
    "    # # ax.set_title(title)\n",
    "    # ax.set_xlabel(\"evaluations\")\n",
    "    # ax.set_ylabel(\"log regret (scaled)\")\n",
    "    # ax.legend(title=\"schedule\")\n",
    "    # fig.set_tight_layout(True)\n",
    "    # plt.show()\n",
    "    # err = errorbar if errorbar == \"_ci\" else \"\"\n",
    "    # basename = f\"./tmp/figures/convergence/regret_over_steps{err}_{title}\"\n",
    "    # savefig(fig=fig, basename=basename)"
   ]
  },
  {
   "cell_type": "code",
   "execution_count": null,
   "metadata": {
    "collapsed": false,
    "pycharm": {
     "name": "#%%\n"
    }
   },
   "outputs": [],
   "source": [
    "from rich import inspect\n",
    "\n",
    "lines = ax.get_lines()\n",
    "for line in lines:\n",
    "    # inspect(line, methods=True)\n",
    "    label = line.get_label()\n",
    "    if label.startswith(\"explore\"):\n",
    "        print(label)\n",
    "        # print(inspect(line, methods=True))\n",
    "        print(line.get_xydata())\n",
    "    # break\n",
    "\n",
    "plt.show()"
   ]
  },
  {
   "cell_type": "markdown",
   "metadata": {
    "collapsed": false,
    "pycharm": {
     "name": "#%% md\n"
    }
   },
   "source": [
    "## Plot Search Space Coverage\n",
    "\n",
    "Plot per BBOB function\n",
    "\n",
    "'step', 'state', 'action', 'reward', 'instance', 'cost',\n",
    "       'configuration', 'initial_design', 'episode', 'policy_name', 'policy',\n",
    "       'seed', 'bbob_function', 'bbob_dimension', 'bbob_instance', 'regret'"
   ]
  },
  {
   "cell_type": "code",
   "execution_count": null,
   "metadata": {
    "collapsed": false,
    "pycharm": {
     "name": "#%%\n"
    }
   },
   "outputs": [],
   "source": [
    "import ioh\n",
    "\n",
    "bbob_dim = 2\n",
    "df = df[df[\"bbob_dimension\"] == bbob_dim]\n",
    "group_keys = [\"bbob_function\"]  # , \"seed\"]\n",
    "groups = data.groupby(by=group_keys)\n",
    "for group_id, group_df in groups:\n",
    "    print(group_id)\n",
    "    n_ticks = 5\n",
    "\n",
    "    if type(group_id) != list:\n",
    "        group_id = [group_id]\n",
    "    fid = group_id[0]\n",
    "\n",
    "    # Draw contour plot for groundtruth\n",
    "    problem = ioh.get_problem(fid=fid, instance=1, dimension=bbob_dim, problem_type=\"BBOB\")\n",
    "    lb = problem.constraint.lb\n",
    "    ub = problem.constraint.ub\n",
    "    n_levels = 20\n",
    "    n_points = 1000\n",
    "    X = np.linspace(lb[0], ub[0], n_points)\n",
    "    Y = np.linspace(lb[1], ub[1], n_points)\n",
    "    XX, YY = np.meshgrid(X, Y)\n",
    "    # ZZ = np.zeros(XX.flatten().shape[0])\n",
    "    ZZ = np.zeros_like(XX)\n",
    "    for i in range(n_points):\n",
    "        for j in range(n_points):\n",
    "            x = XX[i, j]\n",
    "            y = YY[i, j]\n",
    "            z = problem([x, y])\n",
    "            ZZ[i, j] = z\n",
    "    # ZZ = ZZ.reshape(XX.shape)\n",
    "\n",
    "    fig = plt.figure()\n",
    "    ax = fig.add_subplot(111)\n",
    "    ax.contourf(XX, YY, ZZ, levels=n_levels, cmap=\"viridis\")\n",
    "\n",
    "    # Add sampled points from different schedules\n",
    "    X = group_df[\"configuration\"].to_list()\n",
    "    X = np.array([np.array(ast.literal_eval(x)) for x in X])\n",
    "\n",
    "    names = group_df[\"policy_name\"].reset_index(drop=True)\n",
    "    series = [pd.Series(data=X[:, i], name=f\"x{i}\") for i in range(X.shape[-1])] + [names]\n",
    "    sub_df = pd.concat(series, axis=1)\n",
    "\n",
    "    ax = sns.scatterplot(data=sub_df, x=\"x0\", y=\"x1\", hue=\"policy_name\", ax=ax)\n",
    "    title = get_group_title(group_keys=group_keys, group_id=group_id)\n",
    "    ax.set_title(title)\n",
    "\n",
    "    xticks = np.linspace(lb[0], ub[0], n_ticks)\n",
    "    yticks = np.linspace(lb[1], ub[1], n_ticks)\n",
    "    ax.set_xticks(xticks)\n",
    "    ax.set_yticks(yticks)\n",
    "\n",
    "    # margin = 0.05\n",
    "    # ax.set_xlim((1 - margin) * lb[0], (1 + margin) * ub[0])\n",
    "    # ax.set_ylim((1 - margin) * lb[1], (1 + margin) * ub[1])\n",
    "\n",
    "    fig.set_tight_layout(True)\n",
    "    plt.show()\n",
    "\n",
    "    # break"
   ]
  },
  {
   "cell_type": "markdown",
   "metadata": {
    "collapsed": false,
    "pycharm": {
     "name": "#%% md\n"
    }
   },
   "source": [
    "## Plot 2D Landscape of BBOB function"
   ]
  },
  {
   "cell_type": "code",
   "execution_count": null,
   "metadata": {
    "collapsed": false,
    "pycharm": {
     "name": "#%%\n"
    }
   },
   "outputs": [],
   "source": [
    "import seaborn as sns\n",
    "import matplotlib.pyplot as plt\n",
    "\n",
    "import ioh\n",
    "\n",
    "function = 16\n",
    "dimension = 2\n",
    "n_ticks = 5\n",
    "\n",
    "# Draw contour plot for groundtruth\n",
    "problem = ioh.get_problem(fid=function, instance=1, dimension=dimension, problem_type=\"BBOB\")\n",
    "print(problem)\n",
    "lb = problem.constraint.lb\n",
    "ub = problem.constraint.ub\n",
    "n_levels = 25\n",
    "n_points = 2000\n",
    "X = np.linspace(lb[0], ub[0], n_points)\n",
    "Y = np.linspace(lb[1], ub[1], n_points)\n",
    "XX, YY = np.meshgrid(X, Y)\n",
    "# ZZ = np.zeros(XX.flatten().shape[0])\n",
    "ZZ = np.zeros_like(XX)\n",
    "for i in range(n_points):\n",
    "    for j in range(n_points):\n",
    "        x = XX[i, j]\n",
    "        y = YY[i, j]\n",
    "        z = problem([x, y])\n",
    "        ZZ[i, j] = z\n",
    "# ZZ = ZZ.reshape(XX.shape)\n",
    "\n",
    "fig = plt.figure(figsize=(6, 6), dpi=300)\n",
    "ax = fig.add_subplot(111)\n",
    "ax.contour(XX, YY, ZZ, levels=n_levels, cmap=\"viridis\")\n",
    "ax.set_aspect(\"equal\")\n",
    "\n",
    "xticks = np.linspace(lb[0], ub[0], n_ticks)\n",
    "yticks = np.linspace(lb[1], ub[1], n_ticks)\n",
    "ax.set_xticks(xticks)\n",
    "ax.set_yticks(yticks)\n",
    "\n",
    "ax.set_xlabel(\"$x_0$\")\n",
    "ax.set_ylabel(\"$x_1$\")\n",
    "\n",
    "# margin = 0.05\n",
    "# ax.set_xlim((1 - margin) * lb[0], (1 + margin) * ub[0])\n",
    "# ax.set_ylim((1 - margin) * lb[1], (1 + margin) * ub[1])\n",
    "\n",
    "fig.set_tight_layout(True)\n",
    "plt.show()\n",
    "\n",
    "# break"
   ]
  }
 ],
 "metadata": {
  "kernelspec": {
   "display_name": "Python 3.10.4 ('dacbo')",
   "language": "python",
   "name": "python3"
  },
  "language_info": {
   "codemirror_mode": {
    "name": "ipython",
    "version": 3
   },
   "file_extension": ".py",
   "mimetype": "text/x-python",
   "name": "python",
   "nbconvert_exporter": "python",
   "pygments_lexer": "ipython3",
   "version": "3.10.4"
  },
  "orig_nbformat": 4,
  "vscode": {
   "interpreter": {
    "hash": "876ed21fdf8ba8f79bc25003588a11f64d3b3845d14cc4895af132a2cdc3c4f7"
   }
  }
 },
 "nbformat": 4,
 "nbformat_minor": 2
}

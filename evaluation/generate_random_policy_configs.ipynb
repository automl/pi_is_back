{
 "cells": [
  {
   "cell_type": "code",
   "execution_count": null,
   "metadata": {},
   "outputs": [],
   "source": [
    "# Generate random policies\n",
    "import os\n",
    "from pathlib import Path\n",
    "import numpy as np\n",
    "from tqdm import tqdm\n",
    "\n",
    "outdir = Path(\"configs/random_policy\")\n",
    "actions = [0, 1]\n",
    "length = 200\n",
    "n_policies = 100\n",
    "\n",
    "\n",
    "header = \"\"\"\n",
    "# @package _global_\n",
    "\n",
    "policy_name: ${baseline}\"\"\"\n",
    "template_fn = outdir / \"random_{i}.yaml\"\n",
    "baseline_name_template = \"\\nbaseline: random_{i}\"\n",
    "template_policy = \"\\npolicy: {policy}\"\n",
    "\n",
    "for i in tqdm(range(n_policies)):\n",
    "    policy = np.random.choice(a=actions, size=length)\n",
    "    policy_str = \"[\" + \",\".join([str(a) for a in policy]) + \"]\"\n",
    "    content = header + baseline_name_template.format(i=i) + template_policy.format(policy=policy_str)\n",
    "    fn = str(template_fn).format(i=i)\n",
    "    with open(fn, \"w\") as file:\n",
    "        file.write(content)"
   ]
  }
 ],
 "metadata": {
  "kernelspec": {
   "display_name": "Python 3.9.5 ('py39')",
   "language": "python",
   "name": "python3"
  },
  "language_info": {
   "name": "python",
   "version": "3.9.5"
  },
  "orig_nbformat": 4,
  "vscode": {
   "interpreter": {
    "hash": "0596034daa777f086c4b1c59ae0c07b75b1c1f7db2f8f736be540f20d5144017"
   }
  }
 },
 "nbformat": 4,
 "nbformat_minor": 2
}
